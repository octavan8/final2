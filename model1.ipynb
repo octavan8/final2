{
 "cells": [
  {
   "cell_type": "code",
   "execution_count": 1,
   "id": "ea7a4e8d",
   "metadata": {},
   "outputs": [],
   "source": [
    "import pandas as pd\n",
    "import numpy as np\n",
    "import matplotlib.pyplot as plt\n",
    "import seaborn as sns\n",
    "\n",
    "from sklearn.metrics import classification_report,confusion_matrix,accuracy_score\n",
    "from sklearn.model_selection import train_test_split\n",
    "from sklearn.ensemble import RandomForestClassifier\n"
   ]
  },
  {
   "cell_type": "code",
   "execution_count": 2,
   "id": "bbeca1be",
   "metadata": {},
   "outputs": [],
   "source": [
    "df = pd.read_csv('final.csv', delimiter=\",\")"
   ]
  },
  {
   "cell_type": "code",
   "execution_count": 4,
   "id": "3f00d28b",
   "metadata": {},
   "outputs": [
    {
     "data": {
      "text/plain": [
       "0    35378\n",
       "1    11566\n",
       "Name: label, dtype: int64"
      ]
     },
     "execution_count": 4,
     "metadata": {},
     "output_type": "execute_result"
    }
   ],
   "source": [
    "df['label'].value_counts()"
   ]
  },
  {
   "cell_type": "markdown",
   "id": "1694ae34",
   "metadata": {},
   "source": [
    "# Visual LOOK"
   ]
  },
  {
   "cell_type": "code",
   "execution_count": 6,
   "id": "17de342c",
   "metadata": {},
   "outputs": [
    {
     "data": {
      "text/plain": [
       "<AxesSubplot:xlabel='label', ylabel='count'>"
      ]
     },
     "execution_count": 6,
     "metadata": {},
     "output_type": "execute_result"
    },
    {
     "data": {
      "image/png": "[encoded data removed]",
      "text/plain": [
       "<Figure size 432x288 with 1 Axes>"
      ]
     },
     "metadata": {
      "needs_background": "light"
     },
     "output_type": "display_data"
    }
   ],
   "source": [
    "sns.countplot(x = 'label', data = df, order = df['label'].value_counts().index)"
   ]
  },
  {
   "cell_type": "code",
   "execution_count": 10,
   "id": "0c63546f",
   "metadata": {},
   "outputs": [
    {
     "data": {
      "text/plain": [
       "0"
      ]
     },
     "execution_count": 10,
     "metadata": {},
     "output_type": "execute_result"
    }
   ],
   "source": [
    "df.duplicated().sum()"
   ]
  },
  {
   "cell_type": "code",
   "execution_count": 9,
   "id": "f4f8f08e",
   "metadata": {},
   "outputs": [],
   "source": [
    "# remove duplicated values\n",
    "df = df.drop_duplicates(keep='first')"
   ]
  },
  {
   "cell_type": "code",
   "execution_count": 11,
   "id": "ceb77403",
   "metadata": {},
   "outputs": [
    {
     "name": "stdout",
     "output_type": "stream",
     "text": [
      "<class 'pandas.core.frame.DataFrame'>\n",
      "Int64Index: 38069 entries, 0 to 46943\n",
      "Data columns (total 24 columns):\n",
      " #   Column              Non-Null Count  Dtype \n",
      "---  ------              --------------  ----- \n",
      " 0   url                 38069 non-null  object\n",
      " 1   use_of_ip           38069 non-null  int64 \n",
      " 2   abnormal_url        38069 non-null  int64 \n",
      " 3   count.              38069 non-null  int64 \n",
      " 4   count-www           38069 non-null  int64 \n",
      " 5   count@              38069 non-null  int64 \n",
      " 6   count_dir           38069 non-null  int64 \n",
      " 7   count_embed_domian  38069 non-null  int64 \n",
      " 8   short_url           38069 non-null  int64 \n",
      " 9   count-https         38069 non-null  int64 \n",
      " 10  count-http          38069 non-null  int64 \n",
      " 11  count%              38069 non-null  int64 \n",
      " 12  count?              38069 non-null  int64 \n",
      " 13  count-              38069 non-null  int64 \n",
      " 14  count=              38069 non-null  int64 \n",
      " 15  url_length          38069 non-null  int64 \n",
      " 16  hostname_length     38069 non-null  int64 \n",
      " 17  sus_url             38069 non-null  int64 \n",
      " 18  fd_length           38069 non-null  int64 \n",
      " 19  tld                 37843 non-null  object\n",
      " 20  tld_length          38069 non-null  int64 \n",
      " 21  count-digits        38069 non-null  int64 \n",
      " 22  count-letters       38069 non-null  int64 \n",
      " 23  label               38069 non-null  int64 \n",
      "dtypes: int64(22), object(2)\n",
      "memory usage: 7.3+ MB\n"
     ]
    }
   ],
   "source": [
    "df.info()"
   ]
  },
  {
   "cell_type": "markdown",
   "id": "4c489b37",
   "metadata": {},
   "source": [
    "# Feature Selection"
   ]
  },
  {
   "cell_type": "code",
   "execution_count": 12,
   "id": "0f3391d9",
   "metadata": {},
   "outputs": [],
   "source": [
    "#Predictor Variables\n",
    "X = df[['use_of_ip','abnormal_url', 'count.', 'count-www', 'count@',\n",
    "       'count_dir', 'count_embed_domian', 'short_url', 'count-https',\n",
    "       'count-http', 'count%', 'count?', 'count-', 'count=', 'url_length',\n",
    "       'hostname_length', 'sus_url', 'fd_length', 'tld_length', 'count-digits',\n",
    "       'count-letters']]\n",
    "\n",
    "#Target Variable\n",
    "y = df['label']"
   ]
  },
  {
   "cell_type": "markdown",
   "id": "a46ea82d",
   "metadata": {},
   "source": [
    "# Class Distribution"
   ]
  },
  {
   "cell_type": "code",
   "execution_count": 13,
   "id": "a130a037",
   "metadata": {},
   "outputs": [
    {
     "data": {
      "text/plain": [
       "<AxesSubplot:ylabel='label'>"
      ]
     },
     "execution_count": 13,
     "metadata": {},
     "output_type": "execute_result"
    },
    {
     "data": {
      "image/png": "[encoded data removed]",
      "text/plain": [
       "<Figure size 432x288 with 1 Axes>"
      ]
     },
     "metadata": {},
     "output_type": "display_data"
    }
   ],
   "source": [
    "# Show pie plot (Approach 1)\n",
    "y.value_counts().plot.pie(autopct='%.2f')"
   ]
  },
  {
   "cell_type": "code",
   "execution_count": 14,
   "id": "0e1aba0e",
   "metadata": {},
   "outputs": [
    {
     "data": {
      "text/plain": [
       "([<matplotlib.patches.Wedge at 0x2543f4b2610>,\n",
       "  <matplotlib.patches.Wedge at 0x2543f4b2d30>],\n",
       " [Text(-1.0729877295338506, 0.24227532327868778, '35378'),\n",
       "  Text(1.0729877465464375, -0.2422752479334165, '2691')],\n",
       " [Text(-0.5852660342911912, 0.1321501763338297, '92.93'),\n",
       "  Text(0.5852660435707839, -0.13215013523640898, '7.07')])"
      ]
     },
     "execution_count": 14,
     "metadata": {},
     "output_type": "execute_result"
    },
    {
     "data": {
      "image/png": "[encoded data removed]",
      "text/plain": [
       "<Figure size 432x288 with 1 Axes>"
      ]
     },
     "metadata": {},
     "output_type": "display_data"
    }
   ],
   "source": [
    "# Show pie plot (Approach 2)\n",
    "fig1, ax1 = plt.subplots()\n",
    "ax1.pie(y.value_counts(), autopct='%.2f', labels=y.value_counts())"
   ]
  },
  {
   "cell_type": "markdown",
   "id": "826aa662",
   "metadata": {},
   "source": [
    "# Data Splitting"
   ]
  },
  {
   "cell_type": "code",
   "execution_count": 15,
   "id": "ef03d967",
   "metadata": {},
   "outputs": [],
   "source": [
    "X_train, X_test, y_train, y_test = train_test_split(X, y, test_size=0.2, random_state=42)"
   ]
  },
  {
   "cell_type": "code",
   "execution_count": 16,
   "id": "c1eb4ad1",
   "metadata": {},
   "outputs": [
    {
     "data": {
      "text/plain": [
       "((30455, 21), (30455,), (7614, 21), (7614,))"
      ]
     },
     "execution_count": 16,
     "metadata": {},
     "output_type": "execute_result"
    }
   ],
   "source": [
    "X_train.shape, y_train.shape, X_test.shape, y_test.shape"
   ]
  },
  {
   "cell_type": "code",
   "execution_count": 17,
   "id": "c2883ad5",
   "metadata": {},
   "outputs": [
    {
     "data": {
      "text/plain": [
       "<AxesSubplot:ylabel='label'>"
      ]
     },
     "execution_count": 17,
     "metadata": {},
     "output_type": "execute_result"
    },
    {
     "data": {
      "image/png": "[encoded data removed]",
      "text/plain": [
       "<Figure size 432x288 with 1 Axes>"
      ]
     },
     "metadata": {},
     "output_type": "display_data"
    }
   ],
   "source": [
    "# Pie chart of the training set\n",
    "y_train.value_counts().plot.pie(autopct='%.2f')"
   ]
  },
  {
   "cell_type": "code",
   "execution_count": 18,
   "id": "0306b0ad",
   "metadata": {},
   "outputs": [
    {
     "data": {
      "text/plain": [
       "0    28325\n",
       "1     2130\n",
       "Name: label, dtype: int64"
      ]
     },
     "execution_count": 18,
     "metadata": {},
     "output_type": "execute_result"
    }
   ],
   "source": [
    "y_train.value_counts()"
   ]
  },
  {
   "cell_type": "markdown",
   "id": "ada46a48",
   "metadata": {},
   "source": [
    "# Class Balancing"
   ]
  },
  {
   "cell_type": "markdown",
   "id": "d2ef3345",
   "metadata": {},
   "source": [
    "## Random undersampling"
   ]
  },
  {
   "cell_type": "code",
   "execution_count": 19,
   "id": "1406131b",
   "metadata": {},
   "outputs": [
    {
     "data": {
      "image/png": "[encoded data removed]",
      "text/plain": [
       "<Figure size 432x288 with 1 Axes>"
      ]
     },
     "metadata": {},
     "output_type": "display_data"
    }
   ],
   "source": [
    "from imblearn.under_sampling import RandomUnderSampler\n",
    "\n",
    "rus = RandomUnderSampler(sampling_strategy=1) # Numerical value\n",
    "# rus = RandomUnderSampler(sampling_strategy=\"not minority\") # String\n",
    "X_train_rus, y_train_rus = rus.fit_resample(X_train, y_train)\n",
    "\n",
    "ax = y_train_rus.value_counts().plot.pie(autopct='%.2f')\n",
    "_ = ax.set_title(\"Under-sampling\")"
   ]
  },
  {
   "cell_type": "code",
   "execution_count": 20,
   "id": "9c1e2d86",
   "metadata": {},
   "outputs": [
    {
     "data": {
      "text/plain": [
       "0    2130\n",
       "1    2130\n",
       "Name: label, dtype: int64"
      ]
     },
     "execution_count": 20,
     "metadata": {},
     "output_type": "execute_result"
    }
   ],
   "source": [
    "# Class distribution\n",
    "y_train_rus.value_counts()"
   ]
  },
  {
   "cell_type": "markdown",
   "id": "01025b09",
   "metadata": {},
   "source": [
    "## Random Oversampling"
   ]
  },
  {
   "cell_type": "code",
   "execution_count": 21,
   "id": "df5a571d",
   "metadata": {},
   "outputs": [
    {
     "data": {
      "image/png": "[encoded data removed]",
      "text/plain": [
       "<Figure size 432x288 with 1 Axes>"
      ]
     },
     "metadata": {},
     "output_type": "display_data"
    }
   ],
   "source": [
    "from imblearn.over_sampling import RandomOverSampler\n",
    "\n",
    "#ros = RandomOverSampler(sampling_strategy=1) # Float\n",
    "ros = RandomOverSampler(sampling_strategy=\"not majority\") # String\n",
    "X_train_ros, y_train_ros = ros.fit_resample(X_train, y_train)\n",
    "\n",
    "ax = y_train_ros.value_counts().plot.pie(autopct='%.2f')\n",
    "_ = ax.set_title(\"Over-sampling\")"
   ]
  },
  {
   "cell_type": "code",
   "execution_count": 22,
   "id": "270790d8",
   "metadata": {},
   "outputs": [
    {
     "data": {
      "text/plain": [
       "0    28325\n",
       "1    28325\n",
       "Name: label, dtype: int64"
      ]
     },
     "execution_count": 22,
     "metadata": {},
     "output_type": "execute_result"
    }
   ],
   "source": [
    "y_train_ros.value_counts()"
   ]
  },
  {
   "cell_type": "markdown",
   "id": "d5dc1494",
   "metadata": {},
   "source": [
    "# Model building with/without class balancing"
   ]
  },
  {
   "cell_type": "markdown",
   "id": "ec65250d",
   "metadata": {},
   "source": [
    "## 1. Model Building without class balancing"
   ]
  },
  {
   "cell_type": "code",
   "execution_count": 23,
   "id": "3871f8f0",
   "metadata": {},
   "outputs": [
    {
     "name": "stdout",
     "output_type": "stream",
     "text": [
      "[[28324     1]\n",
      " [    0  2130]]\n",
      "0.999967164669184\n",
      "              precision    recall  f1-score   support\n",
      "\n",
      "           0       1.00      1.00      1.00     28325\n",
      "           1       1.00      1.00      1.00      2130\n",
      "\n",
      "    accuracy                           1.00     30455\n",
      "   macro avg       1.00      1.00      1.00     30455\n",
      "weighted avg       1.00      1.00      1.00     30455\n",
      "\n",
      "[[7048    5]\n",
      " [  19  542]]\n",
      "0.9968479117415288\n",
      "              precision    recall  f1-score   support\n",
      "\n",
      "           0       1.00      1.00      1.00      7053\n",
      "           1       0.99      0.97      0.98       561\n",
      "\n",
      "    accuracy                           1.00      7614\n",
      "   macro avg       0.99      0.98      0.99      7614\n",
      "weighted avg       1.00      1.00      1.00      7614\n",
      "\n",
      "[0.98477261 0.98221808 0.9873264  0.98477496 0.97454253 0.98477225\n",
      " 0.96158924 0.97194396 0.95900295 0.97965821]\n"
     ]
    },
    {
     "data": {
      "text/html": [
       "<div>\n",
       "<style scoped>\n",
       "    .dataframe tbody tr th:only-of-type {\n",
       "        vertical-align: middle;\n",
       "    }\n",
       "\n",
       "    .dataframe tbody tr th {\n",
       "        vertical-align: top;\n",
       "    }\n",
       "\n",
       "    .dataframe thead th {\n",
       "        text-align: right;\n",
       "    }\n",
       "</style>\n",
       "<table border=\"1\" class=\"dataframe\">\n",
       "  <thead>\n",
       "    <tr style=\"text-align: right;\">\n",
       "      <th></th>\n",
       "      <th>Performance_metric_names</th>\n",
       "      <th>Performance_metric_values</th>\n",
       "    </tr>\n",
       "  </thead>\n",
       "  <tbody>\n",
       "    <tr>\n",
       "      <th>0</th>\n",
       "      <td>MCC_train</td>\n",
       "      <td>0.999748</td>\n",
       "    </tr>\n",
       "    <tr>\n",
       "      <th>1</th>\n",
       "      <td>MCC_CV</td>\n",
       "      <td>0.977060</td>\n",
       "    </tr>\n",
       "    <tr>\n",
       "      <th>2</th>\n",
       "      <td>MCC_test</td>\n",
       "      <td>0.976731</td>\n",
       "    </tr>\n",
       "  </tbody>\n",
       "</table>\n",
       "</div>"
      ],
      "text/plain": [
       "  Performance_metric_names  Performance_metric_values\n",
       "0                MCC_train                   0.999748\n",
       "1                   MCC_CV                   0.977060\n",
       "2                 MCC_test                   0.976731"
      ]
     },
     "execution_count": 23,
     "metadata": {},
     "output_type": "execute_result"
    }
   ],
   "source": [
    "# Training Random Forest Models\n",
    "model = RandomForestClassifier(random_state=42)\n",
    "model.fit(X_train, y_train)\n",
    "\n",
    "# Training Cross-validation Models\n",
    "from sklearn.metrics import make_scorer, matthews_corrcoef\n",
    "from sklearn.model_selection import cross_validate\n",
    "\n",
    "model_cv = RandomForestClassifier(random_state=42)\n",
    "cv_scoring = {'MCC': make_scorer(matthews_corrcoef)}\n",
    "cv = cross_validate(model_cv, X_train, y_train, cv=10, scoring=cv_scoring)\n",
    "\n",
    "# Apply model to make prediction\n",
    "from sklearn.metrics import matthews_corrcoef\n",
    "\n",
    "y_train_pred = model.predict(X_train)\n",
    "y_test_pred = model.predict(X_test)\n",
    "\n",
    "# Performa DataTraining\n",
    "print(confusion_matrix(y_train,y_train_pred))\n",
    "print(accuracy_score(y_train,y_train_pred))\n",
    "print(classification_report(y_train,y_train_pred))\n",
    "\n",
    "#Performa Data Test\n",
    "print(confusion_matrix(y_test,y_test_pred))\n",
    "print(accuracy_score(y_test,y_test_pred))\n",
    "print(classification_report(y_test,y_test_pred))\n",
    "  \n",
    "mcc_train = matthews_corrcoef(y_train, y_train_pred)\n",
    "mcc_test = matthews_corrcoef(y_test, y_test_pred)\n",
    "mcc_cv = cv['test_MCC'].mean()\n",
    "print(cv['test_MCC'])\n",
    "\n",
    "# Display model performance results\n",
    "df_labels = pd.Series(['MCC_train', 'MCC_CV', 'MCC_test'], name = 'Performance_metric_names')\n",
    "df_values = pd.Series([mcc_train, mcc_cv, mcc_test], name = 'Performance_metric_values')\n",
    "df1 = pd.concat([df_labels, df_values], axis=1)\n",
    "df1"
   ]
  },
  {
   "cell_type": "markdown",
   "id": "20a3103f",
   "metadata": {},
   "source": [
    "## 2. Model building with undersampled balance class"
   ]
  },
  {
   "cell_type": "code",
   "execution_count": 24,
   "id": "92d8e7a5",
   "metadata": {},
   "outputs": [
    {
     "name": "stdout",
     "output_type": "stream",
     "text": [
      "[[2130    0]\n",
      " [   0 2130]]\n",
      "1.0\n",
      "              precision    recall  f1-score   support\n",
      "\n",
      "           0       1.00      1.00      1.00      2130\n",
      "           1       1.00      1.00      1.00      2130\n",
      "\n",
      "    accuracy                           1.00      4260\n",
      "   macro avg       1.00      1.00      1.00      4260\n",
      "weighted avg       1.00      1.00      1.00      4260\n",
      "\n",
      "[[7002   51]\n",
      " [   5  556]]\n",
      "0.9926451273969005\n",
      "              precision    recall  f1-score   support\n",
      "\n",
      "           0       1.00      0.99      1.00      7053\n",
      "           1       0.92      0.99      0.95       561\n",
      "\n",
      "    accuracy                           0.99      7614\n",
      "   macro avg       0.96      0.99      0.97      7614\n",
      "weighted avg       0.99      0.99      0.99      7614\n",
      "\n",
      "[0.99531613 0.98126392 0.99531613 0.98126392 0.98126392 0.98139372\n",
      " 0.95801046 0.9860133  0.94920452 0.98592636]\n"
     ]
    },
    {
     "data": {
      "text/html": [
       "<div>\n",
       "<style scoped>\n",
       "    .dataframe tbody tr th:only-of-type {\n",
       "        vertical-align: middle;\n",
       "    }\n",
       "\n",
       "    .dataframe tbody tr th {\n",
       "        vertical-align: top;\n",
       "    }\n",
       "\n",
       "    .dataframe thead th {\n",
       "        text-align: right;\n",
       "    }\n",
       "</style>\n",
       "<table border=\"1\" class=\"dataframe\">\n",
       "  <thead>\n",
       "    <tr style=\"text-align: right;\">\n",
       "      <th></th>\n",
       "      <th>Performance_metric_names</th>\n",
       "      <th>Performance_metric_values</th>\n",
       "    </tr>\n",
       "  </thead>\n",
       "  <tbody>\n",
       "    <tr>\n",
       "      <th>0</th>\n",
       "      <td>MCC_train</td>\n",
       "      <td>1.000000</td>\n",
       "    </tr>\n",
       "    <tr>\n",
       "      <th>1</th>\n",
       "      <td>MCC_CV</td>\n",
       "      <td>0.979497</td>\n",
       "    </tr>\n",
       "    <tr>\n",
       "      <th>2</th>\n",
       "      <td>MCC_test</td>\n",
       "      <td>0.948942</td>\n",
       "    </tr>\n",
       "  </tbody>\n",
       "</table>\n",
       "</div>"
      ],
      "text/plain": [
       "  Performance_metric_names  Performance_metric_values\n",
       "0                MCC_train                   1.000000\n",
       "1                   MCC_CV                   0.979497\n",
       "2                 MCC_test                   0.948942"
      ]
     },
     "execution_count": 24,
     "metadata": {},
     "output_type": "execute_result"
    }
   ],
   "source": [
    "# Training Random Forest Models\n",
    "model = RandomForestClassifier(random_state=42)\n",
    "model.fit(X_train_rus, y_train_rus)\n",
    "\n",
    "# Training Cross-validation Models\n",
    "from sklearn.metrics import make_scorer, matthews_corrcoef\n",
    "from sklearn.model_selection import cross_validate\n",
    "\n",
    "model_cv = RandomForestClassifier(random_state=42)\n",
    "cv_scoring = {'MCC': make_scorer(matthews_corrcoef)}\n",
    "cv = cross_validate(model_cv, X_train_rus, y_train_rus, cv=10, scoring=cv_scoring)\n",
    "\n",
    "# Apply model to make prediction\n",
    "from sklearn.metrics import matthews_corrcoef\n",
    "\n",
    "y_train_pred = model.predict(X_train_rus)\n",
    "y_test_pred = model.predict(X_test)\n",
    "\n",
    "# Performa DataTraining\n",
    "print(confusion_matrix(y_train_rus,y_train_pred))\n",
    "print(accuracy_score(y_train_rus,y_train_pred))\n",
    "print(classification_report(y_train_rus,y_train_pred))\n",
    "\n",
    "#Performa Data Test\n",
    "print(confusion_matrix(y_test,y_test_pred))\n",
    "print(accuracy_score(y_test,y_test_pred))\n",
    "print(classification_report(y_test,y_test_pred))\n",
    "  \n",
    "mcc_train = matthews_corrcoef(y_train_rus, y_train_pred)\n",
    "mcc_test = matthews_corrcoef(y_test, y_test_pred)\n",
    "mcc_cv = cv['test_MCC'].mean()\n",
    "print(cv['test_MCC'])\n",
    "\n",
    "# Display model performance results\n",
    "df_labels = pd.Series(['MCC_train', 'MCC_CV', 'MCC_test'], name = 'Performance_metric_names')\n",
    "df_values = pd.Series([mcc_train, mcc_cv, mcc_test], name = 'Performance_metric_values')\n",
    "df2 = pd.concat([df_labels, df_values], axis=1)\n",
    "df2"
   ]
  },
  {
   "cell_type": "markdown",
   "id": "f82ce17f",
   "metadata": {},
   "source": [
    "## 3. Model with oversampling balance class"
   ]
  },
  {
   "cell_type": "code",
   "execution_count": 25,
   "id": "d6c29684",
   "metadata": {},
   "outputs": [
    {
     "name": "stdout",
     "output_type": "stream",
     "text": [
      "[[28324     1]\n",
      " [    0 28325]]\n",
      "0.999982347749338\n",
      "              precision    recall  f1-score   support\n",
      "\n",
      "           0       1.00      1.00      1.00     28325\n",
      "           1       1.00      1.00      1.00     28325\n",
      "\n",
      "    accuracy                           1.00     56650\n",
      "   macro avg       1.00      1.00      1.00     56650\n",
      "weighted avg       1.00      1.00      1.00     56650\n",
      "\n",
      "[[7047    6]\n",
      " [  18  543]]\n",
      "0.9968479117415288\n",
      "              precision    recall  f1-score   support\n",
      "\n",
      "           0       1.00      1.00      1.00      7053\n",
      "           1       0.99      0.97      0.98       561\n",
      "\n",
      "    accuracy                           1.00      7614\n",
      "   macro avg       0.99      0.98      0.99      7614\n",
      "weighted avg       1.00      1.00      1.00      7614\n",
      "\n",
      "[1.         1.         0.99964702 0.99964702 0.99964702 1.\n",
      " 0.99929416 0.99929416 1.         0.99964702]\n"
     ]
    },
    {
     "data": {
      "text/html": [
       "<div>\n",
       "<style scoped>\n",
       "    .dataframe tbody tr th:only-of-type {\n",
       "        vertical-align: middle;\n",
       "    }\n",
       "\n",
       "    .dataframe tbody tr th {\n",
       "        vertical-align: top;\n",
       "    }\n",
       "\n",
       "    .dataframe thead th {\n",
       "        text-align: right;\n",
       "    }\n",
       "</style>\n",
       "<table border=\"1\" class=\"dataframe\">\n",
       "  <thead>\n",
       "    <tr style=\"text-align: right;\">\n",
       "      <th></th>\n",
       "      <th>Performance_metric_names</th>\n",
       "      <th>Performance_metric_values</th>\n",
       "    </tr>\n",
       "  </thead>\n",
       "  <tbody>\n",
       "    <tr>\n",
       "      <th>0</th>\n",
       "      <td>MCC_train</td>\n",
       "      <td>0.999965</td>\n",
       "    </tr>\n",
       "    <tr>\n",
       "      <th>1</th>\n",
       "      <td>MCC_CV</td>\n",
       "      <td>0.999718</td>\n",
       "    </tr>\n",
       "    <tr>\n",
       "      <th>2</th>\n",
       "      <td>MCC_test</td>\n",
       "      <td>0.976745</td>\n",
       "    </tr>\n",
       "  </tbody>\n",
       "</table>\n",
       "</div>"
      ],
      "text/plain": [
       "  Performance_metric_names  Performance_metric_values\n",
       "0                MCC_train                   0.999965\n",
       "1                   MCC_CV                   0.999718\n",
       "2                 MCC_test                   0.976745"
      ]
     },
     "execution_count": 25,
     "metadata": {},
     "output_type": "execute_result"
    }
   ],
   "source": [
    "# Training Random Forest Models\n",
    "model = RandomForestClassifier(random_state=42)\n",
    "model.fit(X_train_ros, y_train_ros)\n",
    "\n",
    "# Training Cross-validation Models\n",
    "from sklearn.metrics import make_scorer, matthews_corrcoef\n",
    "from sklearn.model_selection import cross_validate\n",
    "\n",
    "model_cv = RandomForestClassifier(random_state=42)\n",
    "cv_scoring = {'MCC': make_scorer(matthews_corrcoef)}\n",
    "cv = cross_validate(model_cv, X_train_ros, y_train_ros, cv=10, scoring=cv_scoring)\n",
    "\n",
    "# Apply model to make prediction\n",
    "from sklearn.metrics import matthews_corrcoef\n",
    "\n",
    "y_train_pred = model.predict(X_train_ros)\n",
    "y_test_pred = model.predict(X_test)\n",
    "\n",
    "# Performa DataTraining\n",
    "print(confusion_matrix(y_train_ros,y_train_pred))\n",
    "print(accuracy_score(y_train_ros,y_train_pred))\n",
    "print(classification_report(y_train_ros,y_train_pred))\n",
    "\n",
    "#Performa Data Test\n",
    "print(confusion_matrix(y_test,y_test_pred))\n",
    "print(accuracy_score(y_test,y_test_pred))\n",
    "print(classification_report(y_test,y_test_pred))\n",
    "  \n",
    "mcc_train = matthews_corrcoef(y_train_ros, y_train_pred)\n",
    "mcc_test = matthews_corrcoef(y_test, y_test_pred)\n",
    "mcc_cv = cv['test_MCC'].mean()\n",
    "print(cv['test_MCC'])\n",
    "\n",
    "# Display model performance results\n",
    "df_labels = pd.Series(['MCC_train', 'MCC_CV', 'MCC_test'], name = 'Performance_metric_names')\n",
    "df_values = pd.Series([mcc_train, mcc_cv, mcc_test], name = 'Performance_metric_values')\n",
    "df3 = pd.concat([df_labels, df_values], axis=1)\n",
    "df3"
   ]
  },
  {
   "cell_type": "markdown",
   "id": "6925aff1",
   "metadata": {},
   "source": [
    "# Summary of Model Performance"
   ]
  },
  {
   "cell_type": "code",
   "execution_count": 26,
   "id": "aeb9ac71",
   "metadata": {},
   "outputs": [
    {
     "data": {
      "text/html": [
       "<div>\n",
       "<style scoped>\n",
       "    .dataframe tbody tr th:only-of-type {\n",
       "        vertical-align: middle;\n",
       "    }\n",
       "\n",
       "    .dataframe tbody tr th {\n",
       "        vertical-align: top;\n",
       "    }\n",
       "\n",
       "    .dataframe thead th {\n",
       "        text-align: right;\n",
       "    }\n",
       "</style>\n",
       "<table border=\"1\" class=\"dataframe\">\n",
       "  <thead>\n",
       "    <tr style=\"text-align: right;\">\n",
       "      <th></th>\n",
       "      <th>Training</th>\n",
       "      <th>CV</th>\n",
       "      <th>Test</th>\n",
       "    </tr>\n",
       "  </thead>\n",
       "  <tbody>\n",
       "    <tr>\n",
       "      <th>No class balancing</th>\n",
       "      <td>0.999748</td>\n",
       "      <td>0.977060</td>\n",
       "      <td>0.976731</td>\n",
       "    </tr>\n",
       "    <tr>\n",
       "      <th>Class balancing (undersampling)</th>\n",
       "      <td>1.000000</td>\n",
       "      <td>0.979497</td>\n",
       "      <td>0.948942</td>\n",
       "    </tr>\n",
       "    <tr>\n",
       "      <th>Class balancing (oversampling)</th>\n",
       "      <td>0.999965</td>\n",
       "      <td>0.999718</td>\n",
       "      <td>0.976745</td>\n",
       "    </tr>\n",
       "  </tbody>\n",
       "</table>\n",
       "</div>"
      ],
      "text/plain": [
       "                                 Training        CV      Test\n",
       "No class balancing               0.999748  0.977060  0.976731\n",
       "Class balancing (undersampling)  1.000000  0.979497  0.948942\n",
       "Class balancing (oversampling)   0.999965  0.999718  0.976745"
      ]
     },
     "execution_count": 26,
     "metadata": {},
     "output_type": "execute_result"
    }
   ],
   "source": [
    "df = pd.concat([df1.Performance_metric_values,\n",
    "                df2.Performance_metric_values,\n",
    "                df3.Performance_metric_values], axis=1)\n",
    "df.columns = ['No class balancing', 'Class balancing (undersampling)', 'Class balancing (oversampling)']\n",
    "df = df.T\n",
    "df.columns = ['Training', 'CV', 'Test']\n",
    "df"
   ]
  },
  {
   "cell_type": "code",
   "execution_count": 27,
   "id": "315d1a6f",
   "metadata": {},
   "outputs": [],
   "source": [
    "X_train_ros.to_csv(r'C:\\Users\\VA2N\\TA\\final2\\features_ros.csv')"
   ]
  },
  {
   "cell_type": "code",
   "execution_count": 28,
   "id": "4c5b46a3",
   "metadata": {},
   "outputs": [],
   "source": [
    "# Menyimpan model Random Forest\n",
    "import pickle\n",
    "pickle.dump(model, open('modelRF.pkl', 'wb'))"
   ]
  },
  {
   "cell_type": "code",
   "execution_count": null,
   "id": "2fce085c",
   "metadata": {},
   "outputs": [],
   "source": []
  }
 ],
 "metadata": {
  "kernelspec": {
   "display_name": "Python 3 (ipykernel)",
   "language": "python",
   "name": "python3"
  },
  "language_info": {
   "codemirror_mode": {
    "name": "ipython",
    "version": 3
   },
   "file_extension": ".py",
   "mimetype": "text/x-python",
   "name": "python",
   "nbconvert_exporter": "python",
   "pygments_lexer": "ipython3",
   "version": "3.9.7"
  }
 },
 "nbformat": 4,
 "nbformat_minor": 5
}
