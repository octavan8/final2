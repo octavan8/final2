{
 "cells": [
  {
   "cell_type": "code",
   "execution_count": 1,
   "id": "90c7dd99",
   "metadata": {},
   "outputs": [],
   "source": [
    "import pandas as pd\n",
    "import numpy as np\n",
    "import matplotlib.pyplot as plt\n",
    "import seaborn as sns\n",
    "\n",
    "from sklearn.metrics import classification_report,confusion_matrix,accuracy_score\n",
    "from sklearn.model_selection import train_test_split\n",
    "from sklearn.ensemble import RandomForestClassifier"
   ]
  },
  {
   "cell_type": "code",
   "execution_count": 2,
   "id": "15322bc0",
   "metadata": {},
   "outputs": [],
   "source": [
    "df = pd.read_csv('final.csv', delimiter=\",\")"
   ]
  },
  {
   "cell_type": "code",
   "execution_count": 3,
   "id": "8eee3d6a",
   "metadata": {},
   "outputs": [
    {
     "data": {
      "text/plain": [
       "(46944, 24)"
      ]
     },
     "execution_count": 3,
     "metadata": {},
     "output_type": "execute_result"
    }
   ],
   "source": [
    "df.shape"
   ]
  },
  {
   "cell_type": "markdown",
   "id": "4013adad",
   "metadata": {},
   "source": [
    "# Visual LOOK"
   ]
  },
  {
   "cell_type": "code",
   "execution_count": 4,
   "id": "ba7e3862",
   "metadata": {},
   "outputs": [
    {
     "data": {
      "text/plain": [
       "<AxesSubplot:xlabel='label', ylabel='count'>"
      ]
     },
     "execution_count": 4,
     "metadata": {},
     "output_type": "execute_result"
    },
    {
     "data": {
      "image/png": "[encoded data removed]",
      "text/plain": [
       "<Figure size 432x288 with 1 Axes>"
      ]
     },
     "metadata": {
      "needs_background": "light"
     },
     "output_type": "display_data"
    }
   ],
   "source": [
    "sns.countplot(x = 'label', data = df, order = df['label'].value_counts().index)"
   ]
  },
  {
   "cell_type": "code",
   "execution_count": 7,
   "id": "e2f281ef",
   "metadata": {},
   "outputs": [
    {
     "data": {
      "text/plain": [
       "0"
      ]
     },
     "execution_count": 7,
     "metadata": {},
     "output_type": "execute_result"
    }
   ],
   "source": [
    "df.duplicated().sum()"
   ]
  },
  {
   "cell_type": "code",
   "execution_count": 6,
   "id": "15661333",
   "metadata": {},
   "outputs": [],
   "source": [
    "# remove duplicated values\n",
    "df = df.drop_duplicates(keep='first')"
   ]
  },
  {
   "cell_type": "code",
   "execution_count": 8,
   "id": "a0d99a0d",
   "metadata": {},
   "outputs": [
    {
     "name": "stdout",
     "output_type": "stream",
     "text": [
      "<class 'pandas.core.frame.DataFrame'>\n",
      "Int64Index: 38069 entries, 0 to 46943\n",
      "Data columns (total 24 columns):\n",
      " #   Column              Non-Null Count  Dtype \n",
      "---  ------              --------------  ----- \n",
      " 0   url                 38069 non-null  object\n",
      " 1   use_of_ip           38069 non-null  int64 \n",
      " 2   abnormal_url        38069 non-null  int64 \n",
      " 3   count.              38069 non-null  int64 \n",
      " 4   count-www           38069 non-null  int64 \n",
      " 5   count@              38069 non-null  int64 \n",
      " 6   count_dir           38069 non-null  int64 \n",
      " 7   count_embed_domian  38069 non-null  int64 \n",
      " 8   short_url           38069 non-null  int64 \n",
      " 9   count-https         38069 non-null  int64 \n",
      " 10  count-http          38069 non-null  int64 \n",
      " 11  count%              38069 non-null  int64 \n",
      " 12  count?              38069 non-null  int64 \n",
      " 13  count-              38069 non-null  int64 \n",
      " 14  count=              38069 non-null  int64 \n",
      " 15  url_length          38069 non-null  int64 \n",
      " 16  hostname_length     38069 non-null  int64 \n",
      " 17  sus_url             38069 non-null  int64 \n",
      " 18  fd_length           38069 non-null  int64 \n",
      " 19  tld                 37843 non-null  object\n",
      " 20  tld_length          38069 non-null  int64 \n",
      " 21  count-digits        38069 non-null  int64 \n",
      " 22  count-letters       38069 non-null  int64 \n",
      " 23  label               38069 non-null  int64 \n",
      "dtypes: int64(22), object(2)\n",
      "memory usage: 7.3+ MB\n"
     ]
    }
   ],
   "source": [
    "df.info()"
   ]
  },
  {
   "cell_type": "markdown",
   "id": "46d261d7",
   "metadata": {},
   "source": [
    "# Feature Selection"
   ]
  },
  {
   "cell_type": "code",
   "execution_count": 9,
   "id": "bb3e5d29",
   "metadata": {},
   "outputs": [],
   "source": [
    "#Predictor Variables\n",
    "X = df[['url_length','count-letters', 'count-', 'hostname_length', 'count-www',\n",
    "       'fd_length', 'count.', 'count-digits', 'count_dir',\n",
    "       'tld_length']]\n",
    "\n",
    "#Target Variable\n",
    "y = df['label']"
   ]
  },
  {
   "cell_type": "markdown",
   "id": "aced5adb",
   "metadata": {},
   "source": [
    "# Class Distribution"
   ]
  },
  {
   "cell_type": "code",
   "execution_count": 10,
   "id": "e5d68351",
   "metadata": {},
   "outputs": [
    {
     "data": {
      "text/plain": [
       "<AxesSubplot:ylabel='label'>"
      ]
     },
     "execution_count": 10,
     "metadata": {},
     "output_type": "execute_result"
    },
    {
     "data": {
      "image/png": "[encoded data removed]",
      "text/plain": [
       "<Figure size 432x288 with 1 Axes>"
      ]
     },
     "metadata": {},
     "output_type": "display_data"
    }
   ],
   "source": [
    "# Show pie plot (Approach 1)\n",
    "y.value_counts().plot.pie(autopct='%.2f')"
   ]
  },
  {
   "cell_type": "code",
   "execution_count": 11,
   "id": "fc16e480",
   "metadata": {},
   "outputs": [
    {
     "data": {
      "text/plain": [
       "([<matplotlib.patches.Wedge at 0x22edb7748e0>,\n",
       "  <matplotlib.patches.Wedge at 0x22edb774f40>],\n",
       " [Text(-1.0729877295338506, 0.24227532327868778, '35378'),\n",
       "  Text(1.0729877465464375, -0.2422752479334165, '2691')],\n",
       " [Text(-0.5852660342911912, 0.1321501763338297, '92.93'),\n",
       "  Text(0.5852660435707839, -0.13215013523640898, '7.07')])"
      ]
     },
     "execution_count": 11,
     "metadata": {},
     "output_type": "execute_result"
    },
    {
     "data": {
      "image/png": "[encoded data removed]",
      "text/plain": [
       "<Figure size 432x288 with 1 Axes>"
      ]
     },
     "metadata": {},
     "output_type": "display_data"
    }
   ],
   "source": [
    "# Show pie plot (Approach 2)\n",
    "fig1, ax1 = plt.subplots()\n",
    "ax1.pie(y.value_counts(), autopct='%.2f', labels=y.value_counts())"
   ]
  },
  {
   "cell_type": "markdown",
   "id": "0a21a4ad",
   "metadata": {},
   "source": [
    "# Data Splitting"
   ]
  },
  {
   "cell_type": "code",
   "execution_count": 12,
   "id": "ff2e81b9",
   "metadata": {},
   "outputs": [],
   "source": [
    "X_train, X_test, y_train, y_test = train_test_split(X, y, test_size=0.2, random_state=42)"
   ]
  },
  {
   "cell_type": "code",
   "execution_count": 13,
   "id": "d04a1d5b",
   "metadata": {},
   "outputs": [
    {
     "data": {
      "text/plain": [
       "((30455, 10), (30455,), (7614, 10), (7614,))"
      ]
     },
     "execution_count": 13,
     "metadata": {},
     "output_type": "execute_result"
    }
   ],
   "source": [
    "X_train.shape, y_train.shape, X_test.shape, y_test.shape"
   ]
  },
  {
   "cell_type": "code",
   "execution_count": 14,
   "id": "120bcd9b",
   "metadata": {},
   "outputs": [
    {
     "data": {
      "text/plain": [
       "<AxesSubplot:ylabel='label'>"
      ]
     },
     "execution_count": 14,
     "metadata": {},
     "output_type": "execute_result"
    },
    {
     "data": {
      "image/png": "[encoded data removed]",
      "text/plain": [
       "<Figure size 432x288 with 1 Axes>"
      ]
     },
     "metadata": {},
     "output_type": "display_data"
    }
   ],
   "source": [
    "# Pie chart of the training set\n",
    "y_train.value_counts().plot.pie(autopct='%.2f')"
   ]
  },
  {
   "cell_type": "code",
   "execution_count": 15,
   "id": "dffb8e30",
   "metadata": {},
   "outputs": [
    {
     "data": {
      "text/plain": [
       "0    28325\n",
       "1     2130\n",
       "Name: label, dtype: int64"
      ]
     },
     "execution_count": 15,
     "metadata": {},
     "output_type": "execute_result"
    }
   ],
   "source": [
    "y_train.value_counts()"
   ]
  },
  {
   "cell_type": "markdown",
   "id": "171c1bc7",
   "metadata": {},
   "source": [
    "# Class Balancing"
   ]
  },
  {
   "cell_type": "markdown",
   "id": "1f9efa76",
   "metadata": {},
   "source": [
    "## Random undersampling"
   ]
  },
  {
   "cell_type": "code",
   "execution_count": 16,
   "id": "282d784a",
   "metadata": {},
   "outputs": [
    {
     "data": {
      "image/png": "[encoded data removed]",
      "text/plain": [
       "<Figure size 432x288 with 1 Axes>"
      ]
     },
     "metadata": {},
     "output_type": "display_data"
    }
   ],
   "source": [
    "from imblearn.under_sampling import RandomUnderSampler\n",
    "\n",
    "rus = RandomUnderSampler(sampling_strategy=1) # Numerical value\n",
    "# rus = RandomUnderSampler(sampling_strategy=\"not minority\") # String\n",
    "X_train_rus, y_train_rus = rus.fit_resample(X_train, y_train)\n",
    "\n",
    "ax = y_train_rus.value_counts().plot.pie(autopct='%.2f')\n",
    "_ = ax.set_title(\"Under-sampling\")"
   ]
  },
  {
   "cell_type": "code",
   "execution_count": 17,
   "id": "d31bd41e",
   "metadata": {},
   "outputs": [
    {
     "data": {
      "text/plain": [
       "0    2130\n",
       "1    2130\n",
       "Name: label, dtype: int64"
      ]
     },
     "execution_count": 17,
     "metadata": {},
     "output_type": "execute_result"
    }
   ],
   "source": [
    "# Class distribution\n",
    "y_train_rus.value_counts()"
   ]
  },
  {
   "cell_type": "markdown",
   "id": "86ddcca3",
   "metadata": {},
   "source": [
    "## Random Oversampling"
   ]
  },
  {
   "cell_type": "code",
   "execution_count": 18,
   "id": "a3554a7c",
   "metadata": {},
   "outputs": [
    {
     "data": {
      "image/png": "[encoded data removed]",
      "text/plain": [
       "<Figure size 432x288 with 1 Axes>"
      ]
     },
     "metadata": {},
     "output_type": "display_data"
    }
   ],
   "source": [
    "from imblearn.over_sampling import RandomOverSampler\n",
    "\n",
    "#ros = RandomOverSampler(sampling_strategy=1) # Float\n",
    "ros = RandomOverSampler(sampling_strategy=\"not majority\") # String\n",
    "X_train_ros, y_train_ros = ros.fit_resample(X_train, y_train)\n",
    "\n",
    "ax = y_train_ros.value_counts().plot.pie(autopct='%.2f')\n",
    "_ = ax.set_title(\"Over-sampling\")"
   ]
  },
  {
   "cell_type": "code",
   "execution_count": 19,
   "id": "79935e46",
   "metadata": {},
   "outputs": [
    {
     "data": {
      "text/plain": [
       "0    28325\n",
       "1    28325\n",
       "Name: label, dtype: int64"
      ]
     },
     "execution_count": 19,
     "metadata": {},
     "output_type": "execute_result"
    }
   ],
   "source": [
    "y_train_ros.value_counts()"
   ]
  },
  {
   "cell_type": "markdown",
   "id": "e9c9e1eb",
   "metadata": {},
   "source": [
    "# Model building with/without class balancing"
   ]
  },
  {
   "cell_type": "markdown",
   "id": "bfdbb7e4",
   "metadata": {},
   "source": [
    "## 1. Model Building without class balancing"
   ]
  },
  {
   "cell_type": "code",
   "execution_count": 20,
   "id": "5616d56d",
   "metadata": {},
   "outputs": [
    {
     "name": "stdout",
     "output_type": "stream",
     "text": [
      "[[28324     1]\n",
      " [    0  2130]]\n",
      "0.999967164669184\n",
      "              precision    recall  f1-score   support\n",
      "\n",
      "           0       1.00      1.00      1.00     28325\n",
      "           1       1.00      1.00      1.00      2130\n",
      "\n",
      "    accuracy                           1.00     30455\n",
      "   macro avg       1.00      1.00      1.00     30455\n",
      "weighted avg       1.00      1.00      1.00     30455\n",
      "\n",
      "[[7048    5]\n",
      " [  19  542]]\n",
      "0.9968479117415288\n",
      "              precision    recall  f1-score   support\n",
      "\n",
      "           0       1.00      1.00      1.00      7053\n",
      "           1       0.99      0.97      0.98       561\n",
      "\n",
      "    accuracy                           1.00      7614\n",
      "   macro avg       0.99      0.98      0.99      7614\n",
      "weighted avg       1.00      1.00      1.00      7614\n",
      "\n",
      "[0.98221808 0.98221808 0.98477496 0.97709155 0.97452058 0.98221766\n",
      " 0.96420124 0.97454192 0.95900295 0.97711452]\n"
     ]
    },
    {
     "data": {
      "text/html": [
       "<div>\n",
       "<style scoped>\n",
       "    .dataframe tbody tr th:only-of-type {\n",
       "        vertical-align: middle;\n",
       "    }\n",
       "\n",
       "    .dataframe tbody tr th {\n",
       "        vertical-align: top;\n",
       "    }\n",
       "\n",
       "    .dataframe thead th {\n",
       "        text-align: right;\n",
       "    }\n",
       "</style>\n",
       "<table border=\"1\" class=\"dataframe\">\n",
       "  <thead>\n",
       "    <tr style=\"text-align: right;\">\n",
       "      <th></th>\n",
       "      <th>Performance_metric_names</th>\n",
       "      <th>Performance_metric_values</th>\n",
       "    </tr>\n",
       "  </thead>\n",
       "  <tbody>\n",
       "    <tr>\n",
       "      <th>0</th>\n",
       "      <td>MCC_train</td>\n",
       "      <td>0.999748</td>\n",
       "    </tr>\n",
       "    <tr>\n",
       "      <th>1</th>\n",
       "      <td>MCC_CV</td>\n",
       "      <td>0.975790</td>\n",
       "    </tr>\n",
       "    <tr>\n",
       "      <th>2</th>\n",
       "      <td>MCC_test</td>\n",
       "      <td>0.976731</td>\n",
       "    </tr>\n",
       "  </tbody>\n",
       "</table>\n",
       "</div>"
      ],
      "text/plain": [
       "  Performance_metric_names  Performance_metric_values\n",
       "0                MCC_train                   0.999748\n",
       "1                   MCC_CV                   0.975790\n",
       "2                 MCC_test                   0.976731"
      ]
     },
     "execution_count": 20,
     "metadata": {},
     "output_type": "execute_result"
    }
   ],
   "source": [
    "# Training Random Forest Models\n",
    "model = RandomForestClassifier(random_state=42)\n",
    "model.fit(X_train, y_train)\n",
    "\n",
    "# Training Cross-validation Models\n",
    "from sklearn.metrics import make_scorer, matthews_corrcoef\n",
    "from sklearn.model_selection import cross_validate\n",
    "\n",
    "model_cv = RandomForestClassifier(random_state=42)\n",
    "cv_scoring = {'MCC': make_scorer(matthews_corrcoef)}\n",
    "cv = cross_validate(model_cv, X_train, y_train, cv=10, scoring=cv_scoring)\n",
    "\n",
    "# Apply model to make prediction\n",
    "from sklearn.metrics import matthews_corrcoef\n",
    "\n",
    "y_train_pred = model.predict(X_train)\n",
    "y_test_pred = model.predict(X_test)\n",
    "\n",
    "# Performa DataTraining\n",
    "print(confusion_matrix(y_train,y_train_pred))\n",
    "print(accuracy_score(y_train,y_train_pred))\n",
    "print(classification_report(y_train,y_train_pred))\n",
    "\n",
    "#Performa Data Test\n",
    "print(confusion_matrix(y_test,y_test_pred))\n",
    "print(accuracy_score(y_test,y_test_pred))\n",
    "print(classification_report(y_test,y_test_pred))\n",
    "  \n",
    "mcc_train = matthews_corrcoef(y_train, y_train_pred)\n",
    "mcc_test = matthews_corrcoef(y_test, y_test_pred)\n",
    "mcc_cv = cv['test_MCC'].mean()\n",
    "print(cv['test_MCC'])\n",
    "\n",
    "# Display model performance results\n",
    "df_labels = pd.Series(['MCC_train', 'MCC_CV', 'MCC_test'], name = 'Performance_metric_names')\n",
    "df_values = pd.Series([mcc_train, mcc_cv, mcc_test], name = 'Performance_metric_values')\n",
    "df1 = pd.concat([df_labels, df_values], axis=1)\n",
    "df1"
   ]
  },
  {
   "cell_type": "markdown",
   "id": "502bac70",
   "metadata": {},
   "source": [
    "## 2. Model building with undersampled balance class"
   ]
  },
  {
   "cell_type": "code",
   "execution_count": 21,
   "id": "79c71db0",
   "metadata": {},
   "outputs": [
    {
     "name": "stdout",
     "output_type": "stream",
     "text": [
      "[[2130    0]\n",
      " [   0 2130]]\n",
      "1.0\n",
      "              precision    recall  f1-score   support\n",
      "\n",
      "           0       1.00      1.00      1.00      2130\n",
      "           1       1.00      1.00      1.00      2130\n",
      "\n",
      "    accuracy                           1.00      4260\n",
      "   macro avg       1.00      1.00      1.00      4260\n",
      "weighted avg       1.00      1.00      1.00      4260\n",
      "\n",
      "[[7008   45]\n",
      " [   9  552]]\n",
      "0.9929078014184397\n",
      "              precision    recall  f1-score   support\n",
      "\n",
      "           0       1.00      0.99      1.00      7053\n",
      "           1       0.92      0.98      0.95       561\n",
      "\n",
      "    accuracy                           0.99      7614\n",
      "   macro avg       0.96      0.99      0.97      7614\n",
      "weighted avg       0.99      0.99      0.99      7614\n",
      "\n",
      "[0.990654   0.9860133  0.99061033 0.97187383 0.9860133  0.97187383\n",
      " 0.95342999 0.97662269 0.95860259 0.98126392]\n"
     ]
    },
    {
     "data": {
      "text/html": [
       "<div>\n",
       "<style scoped>\n",
       "    .dataframe tbody tr th:only-of-type {\n",
       "        vertical-align: middle;\n",
       "    }\n",
       "\n",
       "    .dataframe tbody tr th {\n",
       "        vertical-align: top;\n",
       "    }\n",
       "\n",
       "    .dataframe thead th {\n",
       "        text-align: right;\n",
       "    }\n",
       "</style>\n",
       "<table border=\"1\" class=\"dataframe\">\n",
       "  <thead>\n",
       "    <tr style=\"text-align: right;\">\n",
       "      <th></th>\n",
       "      <th>Performance_metric_names</th>\n",
       "      <th>Performance_metric_values</th>\n",
       "    </tr>\n",
       "  </thead>\n",
       "  <tbody>\n",
       "    <tr>\n",
       "      <th>0</th>\n",
       "      <td>MCC_train</td>\n",
       "      <td>1.000000</td>\n",
       "    </tr>\n",
       "    <tr>\n",
       "      <th>1</th>\n",
       "      <td>MCC_CV</td>\n",
       "      <td>0.976696</td>\n",
       "    </tr>\n",
       "    <tr>\n",
       "      <th>2</th>\n",
       "      <td>MCC_test</td>\n",
       "      <td>0.950072</td>\n",
       "    </tr>\n",
       "  </tbody>\n",
       "</table>\n",
       "</div>"
      ],
      "text/plain": [
       "  Performance_metric_names  Performance_metric_values\n",
       "0                MCC_train                   1.000000\n",
       "1                   MCC_CV                   0.976696\n",
       "2                 MCC_test                   0.950072"
      ]
     },
     "execution_count": 21,
     "metadata": {},
     "output_type": "execute_result"
    }
   ],
   "source": [
    "# Training Random Forest Models\n",
    "model = RandomForestClassifier(random_state=42)\n",
    "model.fit(X_train_rus, y_train_rus)\n",
    "\n",
    "# Training Cross-validation Models\n",
    "from sklearn.metrics import make_scorer, matthews_corrcoef\n",
    "from sklearn.model_selection import cross_validate\n",
    "\n",
    "model_cv = RandomForestClassifier(random_state=42)\n",
    "cv_scoring = {'MCC': make_scorer(matthews_corrcoef)}\n",
    "cv = cross_validate(model_cv, X_train_rus, y_train_rus, cv=10, scoring=cv_scoring)\n",
    "\n",
    "# Apply model to make prediction\n",
    "from sklearn.metrics import matthews_corrcoef\n",
    "\n",
    "y_train_pred = model.predict(X_train_rus)\n",
    "y_test_pred = model.predict(X_test)\n",
    "\n",
    "# Performa DataTraining\n",
    "print(confusion_matrix(y_train_rus,y_train_pred))\n",
    "print(accuracy_score(y_train_rus,y_train_pred))\n",
    "print(classification_report(y_train_rus,y_train_pred))\n",
    "\n",
    "#Performa Data Test\n",
    "print(confusion_matrix(y_test,y_test_pred))\n",
    "print(accuracy_score(y_test,y_test_pred))\n",
    "print(classification_report(y_test,y_test_pred))\n",
    "  \n",
    "mcc_train = matthews_corrcoef(y_train_rus, y_train_pred)\n",
    "mcc_test = matthews_corrcoef(y_test, y_test_pred)\n",
    "mcc_cv = cv['test_MCC'].mean()\n",
    "print(cv['test_MCC'])\n",
    "\n",
    "# Display model performance results\n",
    "df_labels = pd.Series(['MCC_train', 'MCC_CV', 'MCC_test'], name = 'Performance_metric_names')\n",
    "df_values = pd.Series([mcc_train, mcc_cv, mcc_test], name = 'Performance_metric_values')\n",
    "df2 = pd.concat([df_labels, df_values], axis=1)\n",
    "df2"
   ]
  },
  {
   "cell_type": "markdown",
   "id": "d84c50fd",
   "metadata": {},
   "source": [
    "## 3. Model with oversampling balance class"
   ]
  },
  {
   "cell_type": "code",
   "execution_count": 22,
   "id": "b9ff2a87",
   "metadata": {},
   "outputs": [
    {
     "name": "stdout",
     "output_type": "stream",
     "text": [
      "[[28324     1]\n",
      " [    0 28325]]\n",
      "0.999982347749338\n",
      "              precision    recall  f1-score   support\n",
      "\n",
      "           0       1.00      1.00      1.00     28325\n",
      "           1       1.00      1.00      1.00     28325\n",
      "\n",
      "    accuracy                           1.00     56650\n",
      "   macro avg       1.00      1.00      1.00     56650\n",
      "weighted avg       1.00      1.00      1.00     56650\n",
      "\n",
      "[[7048    5]\n",
      " [  17  544]]\n",
      "0.997110585763068\n",
      "              precision    recall  f1-score   support\n",
      "\n",
      "           0       1.00      1.00      1.00      7053\n",
      "           1       0.99      0.97      0.98       561\n",
      "\n",
      "    accuracy                           1.00      7614\n",
      "   macro avg       0.99      0.98      0.99      7614\n",
      "weighted avg       1.00      1.00      1.00      7614\n",
      "\n",
      "[1.         1.         0.99929416 0.99929416 0.99964702 0.99964702\n",
      " 0.99894143 0.99929416 0.99964702 0.99964702]\n"
     ]
    },
    {
     "data": {
      "text/html": [
       "<div>\n",
       "<style scoped>\n",
       "    .dataframe tbody tr th:only-of-type {\n",
       "        vertical-align: middle;\n",
       "    }\n",
       "\n",
       "    .dataframe tbody tr th {\n",
       "        vertical-align: top;\n",
       "    }\n",
       "\n",
       "    .dataframe thead th {\n",
       "        text-align: right;\n",
       "    }\n",
       "</style>\n",
       "<table border=\"1\" class=\"dataframe\">\n",
       "  <thead>\n",
       "    <tr style=\"text-align: right;\">\n",
       "      <th></th>\n",
       "      <th>Performance_metric_names</th>\n",
       "      <th>Performance_metric_values</th>\n",
       "    </tr>\n",
       "  </thead>\n",
       "  <tbody>\n",
       "    <tr>\n",
       "      <th>0</th>\n",
       "      <td>MCC_train</td>\n",
       "      <td>0.999965</td>\n",
       "    </tr>\n",
       "    <tr>\n",
       "      <th>1</th>\n",
       "      <td>MCC_CV</td>\n",
       "      <td>0.999541</td>\n",
       "    </tr>\n",
       "    <tr>\n",
       "      <th>2</th>\n",
       "      <td>MCC_test</td>\n",
       "      <td>0.978689</td>\n",
       "    </tr>\n",
       "  </tbody>\n",
       "</table>\n",
       "</div>"
      ],
      "text/plain": [
       "  Performance_metric_names  Performance_metric_values\n",
       "0                MCC_train                   0.999965\n",
       "1                   MCC_CV                   0.999541\n",
       "2                 MCC_test                   0.978689"
      ]
     },
     "execution_count": 22,
     "metadata": {},
     "output_type": "execute_result"
    }
   ],
   "source": [
    "# Training Random Forest Models\n",
    "model = RandomForestClassifier(random_state=42)\n",
    "model.fit(X_train_ros, y_train_ros)\n",
    "\n",
    "# Training Cross-validation Models\n",
    "from sklearn.metrics import make_scorer, matthews_corrcoef\n",
    "from sklearn.model_selection import cross_validate\n",
    "\n",
    "model_cv = RandomForestClassifier(random_state=42)\n",
    "cv_scoring = {'MCC': make_scorer(matthews_corrcoef)}\n",
    "cv = cross_validate(model_cv, X_train_ros, y_train_ros, cv=10, scoring=cv_scoring)\n",
    "\n",
    "# Apply model to make prediction\n",
    "from sklearn.metrics import matthews_corrcoef\n",
    "\n",
    "y_train_pred = model.predict(X_train_ros)\n",
    "y_test_pred = model.predict(X_test)\n",
    "\n",
    "# Performa DataTraining\n",
    "print(confusion_matrix(y_train_ros,y_train_pred))\n",
    "print(accuracy_score(y_train_ros,y_train_pred))\n",
    "print(classification_report(y_train_ros,y_train_pred))\n",
    "\n",
    "#Performa Data Test\n",
    "print(confusion_matrix(y_test,y_test_pred))\n",
    "print(accuracy_score(y_test,y_test_pred))\n",
    "print(classification_report(y_test,y_test_pred))\n",
    "  \n",
    "mcc_train = matthews_corrcoef(y_train_ros, y_train_pred)\n",
    "mcc_test = matthews_corrcoef(y_test, y_test_pred)\n",
    "mcc_cv = cv['test_MCC'].mean()\n",
    "print(cv['test_MCC'])\n",
    "\n",
    "# Display model performance results\n",
    "df_labels = pd.Series(['MCC_train', 'MCC_CV', 'MCC_test'], name = 'Performance_metric_names')\n",
    "df_values = pd.Series([mcc_train, mcc_cv, mcc_test], name = 'Performance_metric_values')\n",
    "df3 = pd.concat([df_labels, df_values], axis=1)\n",
    "df3"
   ]
  },
  {
   "cell_type": "markdown",
   "id": "326cca48",
   "metadata": {},
   "source": [
    "# Summary of Model Performance"
   ]
  },
  {
   "cell_type": "code",
   "execution_count": 23,
   "id": "f8726692",
   "metadata": {},
   "outputs": [
    {
     "data": {
      "text/html": [
       "<div>\n",
       "<style scoped>\n",
       "    .dataframe tbody tr th:only-of-type {\n",
       "        vertical-align: middle;\n",
       "    }\n",
       "\n",
       "    .dataframe tbody tr th {\n",
       "        vertical-align: top;\n",
       "    }\n",
       "\n",
       "    .dataframe thead th {\n",
       "        text-align: right;\n",
       "    }\n",
       "</style>\n",
       "<table border=\"1\" class=\"dataframe\">\n",
       "  <thead>\n",
       "    <tr style=\"text-align: right;\">\n",
       "      <th></th>\n",
       "      <th>Training</th>\n",
       "      <th>CV</th>\n",
       "      <th>Test</th>\n",
       "    </tr>\n",
       "  </thead>\n",
       "  <tbody>\n",
       "    <tr>\n",
       "      <th>No class balancing</th>\n",
       "      <td>0.999748</td>\n",
       "      <td>0.975790</td>\n",
       "      <td>0.976731</td>\n",
       "    </tr>\n",
       "    <tr>\n",
       "      <th>Class balancing (undersampling)</th>\n",
       "      <td>1.000000</td>\n",
       "      <td>0.976696</td>\n",
       "      <td>0.950072</td>\n",
       "    </tr>\n",
       "    <tr>\n",
       "      <th>Class balancing (oversampling)</th>\n",
       "      <td>0.999965</td>\n",
       "      <td>0.999541</td>\n",
       "      <td>0.978689</td>\n",
       "    </tr>\n",
       "  </tbody>\n",
       "</table>\n",
       "</div>"
      ],
      "text/plain": [
       "                                 Training        CV      Test\n",
       "No class balancing               0.999748  0.975790  0.976731\n",
       "Class balancing (undersampling)  1.000000  0.976696  0.950072\n",
       "Class balancing (oversampling)   0.999965  0.999541  0.978689"
      ]
     },
     "execution_count": 23,
     "metadata": {},
     "output_type": "execute_result"
    }
   ],
   "source": [
    "df = pd.concat([df1.Performance_metric_values,\n",
    "                df2.Performance_metric_values,\n",
    "                df3.Performance_metric_values], axis=1)\n",
    "df.columns = ['No class balancing', 'Class balancing (undersampling)', 'Class balancing (oversampling)']\n",
    "df = df.T\n",
    "df.columns = ['Training', 'CV', 'Test']\n",
    "df"
   ]
  },
  {
   "cell_type": "code",
   "execution_count": 25,
   "id": "48682088",
   "metadata": {},
   "outputs": [],
   "source": [
    "X_train_ros.to_csv(r'C:\\Users\\VA2N\\TA\\final2\\features_ros2.csv')"
   ]
  },
  {
   "cell_type": "code",
   "execution_count": 26,
   "id": "fa61d1e7",
   "metadata": {},
   "outputs": [],
   "source": [
    "# Menyimpan model Random Forest\n",
    "import pickle\n",
    "pickle.dump(model, open('modelIRF.pkl', 'wb'))"
   ]
  },
  {
   "cell_type": "markdown",
   "id": "9ff33d06",
   "metadata": {},
   "source": [
    "# Feature Importance"
   ]
  },
  {
   "cell_type": "code",
   "execution_count": 24,
   "id": "970e0d3f",
   "metadata": {},
   "outputs": [
    {
     "data": {
      "text/plain": [
       "array([1.84575111e-04, 5.61052490e-03, 6.90283618e-02, 8.66212651e-02,\n",
       "       4.87499323e-05, 4.99867273e-02, 4.89900921e-04, 1.95194620e-03,\n",
       "       2.20709447e-03, 5.57853688e-03, 2.27869046e-02, 8.28632367e-03,\n",
       "       1.08664765e-01, 2.13052207e-02, 2.26983605e-01, 9.84335485e-02,\n",
       "       2.16567721e-03, 7.94659485e-02, 3.22563322e-02, 5.09479228e-02,\n",
       "       1.26996070e-01])"
      ]
     },
     "execution_count": 24,
     "metadata": {},
     "output_type": "execute_result"
    }
   ],
   "source": [
    "model_feature = model.feature_importances_\n",
    "model_feature"
   ]
  },
  {
   "cell_type": "code",
   "execution_count": 25,
   "id": "904b8dfc",
   "metadata": {},
   "outputs": [],
   "source": [
    "model_feature = model_feature.tolist()"
   ]
  },
  {
   "cell_type": "code",
   "execution_count": 27,
   "id": "bc5dc375",
   "metadata": {},
   "outputs": [
    {
     "name": "stderr",
     "output_type": "stream",
     "text": [
      "C:\\Users\\VA2N\\AppData\\Local\\Temp/ipykernel_8976/2954114307.py:8: FutureWarning: Dropping of nuisance columns in DataFrame reductions (with 'numeric_only=None') is deprecated; in a future version this will raise TypeError.  Select only valid columns before calling the reduction.\n",
      "  feature_dataframe['mean'] = feature_dataframe.mean(axis= 1) # axis = 1 computes the mean row-wise\n"
     ]
    },
    {
     "data": {
      "text/html": [
       "<div>\n",
       "<style scoped>\n",
       "    .dataframe tbody tr th:only-of-type {\n",
       "        vertical-align: middle;\n",
       "    }\n",
       "\n",
       "    .dataframe tbody tr th {\n",
       "        vertical-align: top;\n",
       "    }\n",
       "\n",
       "    .dataframe thead th {\n",
       "        text-align: right;\n",
       "    }\n",
       "</style>\n",
       "<table border=\"1\" class=\"dataframe\">\n",
       "  <thead>\n",
       "    <tr style=\"text-align: right;\">\n",
       "      <th></th>\n",
       "      <th>features</th>\n",
       "      <th>RF feature importances</th>\n",
       "      <th>mean</th>\n",
       "    </tr>\n",
       "  </thead>\n",
       "  <tbody>\n",
       "    <tr>\n",
       "      <th>0</th>\n",
       "      <td>use_of_ip</td>\n",
       "      <td>0.000185</td>\n",
       "      <td>0.000185</td>\n",
       "    </tr>\n",
       "    <tr>\n",
       "      <th>1</th>\n",
       "      <td>abnormal_url</td>\n",
       "      <td>0.005611</td>\n",
       "      <td>0.005611</td>\n",
       "    </tr>\n",
       "    <tr>\n",
       "      <th>2</th>\n",
       "      <td>count.</td>\n",
       "      <td>0.069028</td>\n",
       "      <td>0.069028</td>\n",
       "    </tr>\n",
       "    <tr>\n",
       "      <th>3</th>\n",
       "      <td>count-www</td>\n",
       "      <td>0.086621</td>\n",
       "      <td>0.086621</td>\n",
       "    </tr>\n",
       "    <tr>\n",
       "      <th>4</th>\n",
       "      <td>count@</td>\n",
       "      <td>0.000049</td>\n",
       "      <td>0.000049</td>\n",
       "    </tr>\n",
       "    <tr>\n",
       "      <th>5</th>\n",
       "      <td>count_dir</td>\n",
       "      <td>0.049987</td>\n",
       "      <td>0.049987</td>\n",
       "    </tr>\n",
       "    <tr>\n",
       "      <th>6</th>\n",
       "      <td>count_embed_domian</td>\n",
       "      <td>0.000490</td>\n",
       "      <td>0.000490</td>\n",
       "    </tr>\n",
       "    <tr>\n",
       "      <th>7</th>\n",
       "      <td>short_url</td>\n",
       "      <td>0.001952</td>\n",
       "      <td>0.001952</td>\n",
       "    </tr>\n",
       "    <tr>\n",
       "      <th>8</th>\n",
       "      <td>count-https</td>\n",
       "      <td>0.002207</td>\n",
       "      <td>0.002207</td>\n",
       "    </tr>\n",
       "    <tr>\n",
       "      <th>9</th>\n",
       "      <td>count-http</td>\n",
       "      <td>0.005579</td>\n",
       "      <td>0.005579</td>\n",
       "    </tr>\n",
       "    <tr>\n",
       "      <th>10</th>\n",
       "      <td>count%</td>\n",
       "      <td>0.022787</td>\n",
       "      <td>0.022787</td>\n",
       "    </tr>\n",
       "    <tr>\n",
       "      <th>11</th>\n",
       "      <td>count?</td>\n",
       "      <td>0.008286</td>\n",
       "      <td>0.008286</td>\n",
       "    </tr>\n",
       "    <tr>\n",
       "      <th>12</th>\n",
       "      <td>count-</td>\n",
       "      <td>0.108665</td>\n",
       "      <td>0.108665</td>\n",
       "    </tr>\n",
       "    <tr>\n",
       "      <th>13</th>\n",
       "      <td>count=</td>\n",
       "      <td>0.021305</td>\n",
       "      <td>0.021305</td>\n",
       "    </tr>\n",
       "    <tr>\n",
       "      <th>14</th>\n",
       "      <td>url_length</td>\n",
       "      <td>0.226984</td>\n",
       "      <td>0.226984</td>\n",
       "    </tr>\n",
       "    <tr>\n",
       "      <th>15</th>\n",
       "      <td>hostname_length</td>\n",
       "      <td>0.098434</td>\n",
       "      <td>0.098434</td>\n",
       "    </tr>\n",
       "    <tr>\n",
       "      <th>16</th>\n",
       "      <td>sus_url</td>\n",
       "      <td>0.002166</td>\n",
       "      <td>0.002166</td>\n",
       "    </tr>\n",
       "    <tr>\n",
       "      <th>17</th>\n",
       "      <td>fd_length</td>\n",
       "      <td>0.079466</td>\n",
       "      <td>0.079466</td>\n",
       "    </tr>\n",
       "    <tr>\n",
       "      <th>18</th>\n",
       "      <td>tld_length</td>\n",
       "      <td>0.032256</td>\n",
       "      <td>0.032256</td>\n",
       "    </tr>\n",
       "    <tr>\n",
       "      <th>19</th>\n",
       "      <td>count-digits</td>\n",
       "      <td>0.050948</td>\n",
       "      <td>0.050948</td>\n",
       "    </tr>\n",
       "    <tr>\n",
       "      <th>20</th>\n",
       "      <td>count-letters</td>\n",
       "      <td>0.126996</td>\n",
       "      <td>0.126996</td>\n",
       "    </tr>\n",
       "  </tbody>\n",
       "</table>\n",
       "</div>"
      ],
      "text/plain": [
       "              features  RF feature importances      mean\n",
       "0            use_of_ip                0.000185  0.000185\n",
       "1         abnormal_url                0.005611  0.005611\n",
       "2               count.                0.069028  0.069028\n",
       "3            count-www                0.086621  0.086621\n",
       "4               count@                0.000049  0.000049\n",
       "5            count_dir                0.049987  0.049987\n",
       "6   count_embed_domian                0.000490  0.000490\n",
       "7            short_url                0.001952  0.001952\n",
       "8          count-https                0.002207  0.002207\n",
       "9           count-http                0.005579  0.005579\n",
       "10              count%                0.022787  0.022787\n",
       "11              count?                0.008286  0.008286\n",
       "12              count-                0.108665  0.108665\n",
       "13              count=                0.021305  0.021305\n",
       "14          url_length                0.226984  0.226984\n",
       "15     hostname_length                0.098434  0.098434\n",
       "16             sus_url                0.002166  0.002166\n",
       "17           fd_length                0.079466  0.079466\n",
       "18          tld_length                0.032256  0.032256\n",
       "19        count-digits                0.050948  0.050948\n",
       "20       count-letters                0.126996  0.126996"
      ]
     },
     "execution_count": 27,
     "metadata": {},
     "output_type": "execute_result"
    }
   ],
   "source": [
    "cols = X.columns\n",
    "# Create a dataframe with features\n",
    "feature_dataframe = pd.DataFrame( {'features': cols,\n",
    "    \n",
    "    'RF feature importances': model_feature\n",
    "                                   \n",
    "    })\n",
    "feature_dataframe['mean'] = feature_dataframe.mean(axis= 1) # axis = 1 computes the mean row-wise\n",
    "feature_dataframe.head(21)"
   ]
  },
  {
   "cell_type": "code",
   "execution_count": 28,
   "id": "4fea2f4d",
   "metadata": {},
   "outputs": [
    {
     "name": "stderr",
     "output_type": "stream",
     "text": [
      "C:\\Users\\VA2N\\AppData\\Local\\Temp/ipykernel_8976/2768239687.py:9: UserWarning: FixedFormatter should only be used together with FixedLocator\n",
      "  s.set_xticklabels(s.get_xticklabels(),rotation=90)\n"
     ]
    },
    {
     "data": {
      "image/png": "[encoded data removed]",
      "text/plain": [
       "<Figure size 720x864 with 1 Axes>"
      ]
     },
     "metadata": {
      "needs_background": "light"
     },
     "output_type": "display_data"
    }
   ],
   "source": [
    "import seaborn as sns\n",
    "%matplotlib inline\n",
    "def plot_feature_importance():\n",
    "    tmp = pd.DataFrame({'Feature': X.columns, 'Feature importance': feature_dataframe['mean'].values})\n",
    "    tmp = tmp.sort_values(by='Feature importance',ascending=False).head(21)\n",
    "    plt.figure(figsize = (10,12))\n",
    "    plt.title('Average Feature Importance Top 21 Features',fontsize=14)\n",
    "    s = sns.barplot(y='Feature',x='Feature importance',data=tmp, orient='h')\n",
    "    s.set_xticklabels(s.get_xticklabels(),rotation=90)\n",
    "    plt.show()\n",
    "plot_feature_importance()"
   ]
  },
  {
   "cell_type": "code",
   "execution_count": null,
   "id": "7c20a15d",
   "metadata": {},
   "outputs": [],
   "source": []
  }
 ],
 "metadata": {
  "kernelspec": {
   "display_name": "Python 3 (ipykernel)",
   "language": "python",
   "name": "python3"
  },
  "language_info": {
   "codemirror_mode": {
    "name": "ipython",
    "version": 3
   },
   "file_extension": ".py",
   "mimetype": "text/x-python",
   "name": "python",
   "nbconvert_exporter": "python",
   "pygments_lexer": "ipython3",
   "version": "3.9.7"
  }
 },
 "nbformat": 4,
 "nbformat_minor": 5
}
